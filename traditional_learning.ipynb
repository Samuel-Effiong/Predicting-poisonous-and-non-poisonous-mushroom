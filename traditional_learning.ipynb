{
 "cells": [
  {
   "cell_type": "code",
   "execution_count": 1,
   "metadata": {},
   "outputs": [],
   "source": [
    "import numpy as np\n",
    "import pandas as pd\n",
    "\n",
    "from functools import partial\n",
    "from sklearn.ensemble import GradientBoostingClassifier, RandomForestClassifier"
   ]
  },
  {
   "cell_type": "code",
   "execution_count": 184,
   "metadata": {},
   "outputs": [],
   "source": [
    "def retrieve_csv_file(path):\n",
    "    \"\"\"This function reads the csv file using pandas and returns a DataFrame\"\"\"\n",
    "    names= ['labels', 'cap-shape', 'cap-color', 'cap-surface', 'bruises', 'odor', \n",
    "            'gill-attachment', 'gill-spacing', 'gill-size', 'gill-color', 'stalk-shape',\n",
    "            'stalk-root', 'stalk-surface-above-ring', 'stalk-surface-below-ring', \n",
    "            'stalk-color-above-ring', 'stalk-color-below-ring', 'veil-type', \n",
    "            'veil-color', 'ring-number', 'ring-type', 'spore-print-color', \n",
    "            'population', 'habitat'\n",
    "           ]\n",
    "    return pd.read_csv(path, names=names)"
   ]
  },
  {
   "cell_type": "code",
   "execution_count": 185,
   "metadata": {},
   "outputs": [],
   "source": [
    "def split_dataset(dataframe: pd.DataFrame, test_size=0.25, shuffle: bool =True):\n",
    "    \"\"\"\n",
    "    Shuffle the dataset and returns the split the data using the fractional test_size.\n",
    "    Note, these operations are performed one the whole datasets\n",
    "    \"\"\"\n",
    "    \n",
    "    from sklearn.model_selection import train_test_split\n",
    "    \n",
    "    # shuffle the dataset randomly\n",
    "    if shuffle:\n",
    "        shuffled_index = np.random.permutation(len(dataframe))\n",
    "        data = dataframe.iloc[shuffled_index]\n",
    "        \n",
    "        # split the dataset\n",
    "        return train_test_split(dataframe, shuffle=shuffle, test_size=test_size)\n",
    "    \n",
    "    return train_test_split(dataframe, shuffle=shuffle, test_size=test_size)\n",
    "    \n",
    "    "
   ]
  },
  {
   "cell_type": "code",
   "execution_count": 186,
   "metadata": {},
   "outputs": [],
   "source": [
    "def split_label_from_dataset(dataframe: pd.DataFrame, label, inplace: bool =False):\n",
    "    \"\"\"\n",
    "    Retrieve the label from the dataset using it column's index\n",
    "    if inplace is True, it also permanently remove the label from the \n",
    "    DataFrame it was retrieved from.\n",
    "    \"\"\"\n",
    "    labels = dataframe[label]\n",
    "    \n",
    "    if inplace:\n",
    "        dataframe.drop(label, inplace=inplace)\n",
    "    \n",
    "    return labels"
   ]
  },
  {
   "cell_type": "code",
   "execution_count": 228,
   "metadata": {},
   "outputs": [],
   "source": [
    "data = retrieve_csv_file('data/expanded.csv')"
   ]
  },
  {
   "cell_type": "code",
   "execution_count": 229,
   "metadata": {},
   "outputs": [
    {
     "data": {
      "text/plain": [
       "((6312, 23), (2104, 23))"
      ]
     },
     "execution_count": 229,
     "metadata": {},
     "output_type": "execute_result"
    }
   ],
   "source": [
    "train, test = split_dataset(data)\n",
    "train.shape, test.shape"
   ]
  },
  {
   "cell_type": "code",
   "execution_count": 230,
   "metadata": {},
   "outputs": [
    {
     "data": {
      "text/plain": [
       "((4734, 23), (1578, 23))"
      ]
     },
     "execution_count": 230,
     "metadata": {},
     "output_type": "execute_result"
    }
   ],
   "source": [
    "train, valid = split_dataset(train)\n",
    "train.shape, valid.shape"
   ]
  },
  {
   "cell_type": "markdown",
   "metadata": {},
   "source": [
    "From my previous analysis of the data, there were a few features which contains a lot of similiarities with each other.\n",
    "So I am going to use the extreme measure of completely removing the similar features, and see if I am going to still get a good model prediction without them"
   ]
  },
  {
   "cell_type": "code",
   "execution_count": 203,
   "metadata": {},
   "outputs": [
    {
     "name": "stderr",
     "output_type": "stream",
     "text": [
      "c:\\users\\dell\\python3.8\\lib\\site-packages\\pandas\\core\\frame.py:4167: SettingWithCopyWarning: \n",
      "A value is trying to be set on a copy of a slice from a DataFrame\n",
      "\n",
      "See the caveats in the documentation: https://pandas.pydata.org/pandas-docs/stable/user_guide/indexing.html#returning-a-view-versus-a-copy\n",
      "  return super().drop(\n"
     ]
    }
   ],
   "source": [
    "similar_features = [\n",
    "    'stalk-surface-above-ring', 'stalk-surface-below-ring',\n",
    "    'stalk-color-above-ring', 'stalk-color-below-ring'\n",
    "]\n",
    "\n",
    "# Drop the similar features from the train, test, valid dataset\n",
    "train.drop(similar_features, axis=1, inplace=True)\n",
    "valid.drop(similar_features, axis=1, inplace=True)\n",
    "test.drop(similar_features, axis=1, inplace=True)"
   ]
  },
  {
   "cell_type": "code",
   "execution_count": 207,
   "metadata": {},
   "outputs": [
    {
     "data": {
      "text/plain": [
       "((4734, 18), (4734,), (1578, 18), (1578,))"
      ]
     },
     "execution_count": 207,
     "metadata": {},
     "output_type": "execute_result"
    }
   ],
   "source": [
    "y_train = split_label_from_dataset(train, label='labels')\n",
    "X_train = train.iloc[:, 1:]\n",
    "\n",
    "y_valid = split_label_from_dataset(valid, label='labels')\n",
    "X_valid = valid.iloc[:, 1:]\n",
    "\n",
    "X_train.shape, y_train.shape, X_valid.shape, y_valid.shape"
   ]
  },
  {
   "cell_type": "markdown",
   "metadata": {},
   "source": [
    "All the features are categorical in representation, and no machine learning algorithm can learn a categorical feature. So I have to first convert it to some sort of numerical values before feeding it to the algorithm. Now herein lies the situation, I can percieve no sort of ordinality to the values, so it makes no sense to encode them using the OrdinalEncoder in sklearn. though you could do and see what value you will get\n",
    "\n",
    "Therefore I am going to use the OneHotEncoders to encode the categorical features and see how it does\n"
   ]
  },
  {
   "cell_type": "code",
   "execution_count": 87,
   "metadata": {},
   "outputs": [],
   "source": [
    "def convert_to_numpy(dataframe: pd.DataFrame):\n",
    "    \"\"\"\n",
    "    convert the DataFrame to a numpy array\n",
    "    \"\"\"\n",
    "    data = dataframe.to_numpy()\n",
    "    \n",
    "    return data"
   ]
  },
  {
   "cell_type": "code",
   "execution_count": 208,
   "metadata": {},
   "outputs": [
    {
     "data": {
      "text/plain": [
       "((4734, 18), (1578, 18))"
      ]
     },
     "execution_count": 208,
     "metadata": {},
     "output_type": "execute_result"
    }
   ],
   "source": [
    "X_train, X_valid = convert_to_numpy(X_train), convert_to_numpy(X_valid)\n",
    "X_train.shape, X_valid.shape"
   ]
  },
  {
   "cell_type": "code",
   "execution_count": 89,
   "metadata": {},
   "outputs": [],
   "source": [
    "def encode_features(data: np.ndarray, encode_type='OneHotEncoder'):\n",
    "    \"\"\"\n",
    "    Encode the data features using the specified encoders \n",
    "    if encode_type = OrdinalEncoder, the OrdinalEncoder is used\n",
    "    if the OneHotEncoder is used to encode the feauters which is the default\n",
    "    if encoder is an object, the encoder must support the fit and transform method\n",
    "    \n",
    "    it displays an error message if none of the encoder is not supported\n",
    "    and returns the transformed features and the encoder used to encode the features,\n",
    "    so that it can be use to encode the test dataset\n",
    "    \"\"\"\n",
    "    try:\n",
    "        if type(encode_type) == str:\n",
    "            if 'onehot' in encode_type.lower():\n",
    "                from sklearn.preprocessing import OneHotEncoder\n",
    "\n",
    "                encoder = OneHotEncoder(sparse=False)\n",
    "                encoder.fit(data)\n",
    "\n",
    "                return encoder, encoder.transform(data)\n",
    "            elif 'ordinal' in encode_type.lower():\n",
    "                from sklearn.preprocessing import OrdinalEncoder\n",
    "\n",
    "                encoder = OrdinalEncoder()\n",
    "                encoder.fit(data)\n",
    "\n",
    "                return encoder, encoder.transform(data)\n",
    "            else:\n",
    "                raise TypeError\n",
    "        elif type(encode_type) == type:  # check to see if the encoder is an object not a string\n",
    "            try:\n",
    "                encode_type.fit(data)\n",
    "            except TypeError:\n",
    "                # if the encoder object has not been instantiated by the user before passing it as an argument\n",
    "                # the program will automatically instantiate it and perform fit on it\n",
    "                if 'onehot' in str(encode_type).lower():\n",
    "                    encoder = encode_type(sparse=False)\n",
    "                else:\n",
    "                    encoder = encode_type()\n",
    "                    \n",
    "                encoder.fit(data)\n",
    "\n",
    "            return encoder, encoder.transform(data)\n",
    "        else:\n",
    "            raise TypeError(\"Invalid encode type\")\n",
    "    except TypeError:\n",
    "        print(\"Invalid encode type\")\n"
   ]
  },
  {
   "cell_type": "code",
   "execution_count": 209,
   "metadata": {},
   "outputs": [
    {
     "data": {
      "text/plain": [
       "((4734, 91), (1578, 91))"
      ]
     },
     "execution_count": 209,
     "metadata": {},
     "output_type": "execute_result"
    }
   ],
   "source": [
    "encoder, X_train_encoded = encode_features(X_train, encode_type='onehot')\n",
    "X_valid_encoded = encoder.transform(X_valid)\n",
    "\n",
    "X_train_encoded.shape, X_valid_encoded.shape"
   ]
  },
  {
   "cell_type": "code",
   "execution_count": 210,
   "metadata": {},
   "outputs": [],
   "source": [
    "# Building my model with their default hyperparameters\n",
    "\n",
    "GradientBooster = partial(GradientBoostingClassifier, \n",
    "                          n_estimators=1000, \n",
    "                          learning_rate=0.01\n",
    "                         )\n",
    "RandomForest = partial(RandomForestClassifier,\n",
    "                       n_estimators=300,\n",
    "                       n_jobs=-1\n",
    "                      )"
   ]
  },
  {
   "cell_type": "code",
   "execution_count": 211,
   "metadata": {},
   "outputs": [],
   "source": [
    "booster = GradientBooster()\n",
    "forest = RandomForest()"
   ]
  },
  {
   "cell_type": "code",
   "execution_count": 212,
   "metadata": {},
   "outputs": [
    {
     "data": {
      "text/plain": [
       "(1.0, 1.0)"
      ]
     },
     "execution_count": 212,
     "metadata": {},
     "output_type": "execute_result"
    }
   ],
   "source": [
    "booster.fit(X_train_encoded, y_train)\n",
    "booster.score(X_train_encoded, y_train), booster.score(X_valid_encoded, y_valid)"
   ]
  },
  {
   "cell_type": "code",
   "execution_count": 213,
   "metadata": {},
   "outputs": [
    {
     "data": {
      "text/plain": [
       "(1.0, 1.0)"
      ]
     },
     "execution_count": 213,
     "metadata": {},
     "output_type": "execute_result"
    }
   ],
   "source": [
    "forest.fit(X_train_encoded, y_train)\n",
    "forest.score(X_train_encoded, y_train), forest.score(X_valid_encoded, y_valid)"
   ]
  },
  {
   "cell_type": "code",
   "execution_count": 215,
   "metadata": {},
   "outputs": [],
   "source": [
    "y_test = split_label_from_dataset(test, label='labels')\n",
    "X_test = test.iloc[:, 1:]"
   ]
  },
  {
   "cell_type": "code",
   "execution_count": 216,
   "metadata": {},
   "outputs": [],
   "source": [
    "X_test = convert_to_numpy(X_test)"
   ]
  },
  {
   "cell_type": "code",
   "execution_count": 217,
   "metadata": {},
   "outputs": [
    {
     "data": {
      "text/plain": [
       "(2104, 91)"
      ]
     },
     "execution_count": 217,
     "metadata": {},
     "output_type": "execute_result"
    }
   ],
   "source": [
    "X_test_encoded = encoder.transform(X_test)\n",
    "X_test_encoded.shape"
   ]
  },
  {
   "cell_type": "code",
   "execution_count": 218,
   "metadata": {},
   "outputs": [
    {
     "data": {
      "text/plain": [
       "(1.0, 1.0)"
      ]
     },
     "execution_count": 218,
     "metadata": {},
     "output_type": "execute_result"
    }
   ],
   "source": [
    "booster.score(X_test_encoded, y_test), forest.score(X_test_encoded, y_test)"
   ]
  },
  {
   "cell_type": "markdown",
   "metadata": {},
   "source": [
    "Even with the extreme measure of completely removing all the duplicates, the model was still capable of generalizing extremely well. \n",
    "Next I will try to see if we can get to get comparable performance, but with a more fewer features. To do that I will visualize what, \n",
    "the model learned, and what features it considers as more importance"
   ]
  },
  {
   "cell_type": "code",
   "execution_count": 135,
   "metadata": {},
   "outputs": [],
   "source": [
    "def plot_importanc(clf):\n",
    "    import seaborn as sns\n",
    "    import matplotlib.pyplot as plt\n",
    "    \n",
    "    plt.figure(figsize=(30, 10))\n",
    "    sns.barplot(x=list(range(len(clf.feature_importances_))), y=clf.feature_importances_)"
   ]
  },
  {
   "cell_type": "code",
   "execution_count": 136,
   "metadata": {},
   "outputs": [
    {
     "data": {
      "image/png": "[encoded data removed]",
      "text/plain": [
       "<Figure size 2160x720 with 1 Axes>"
      ]
     },
     "metadata": {
      "needs_background": "light"
     },
     "output_type": "display_data"
    }
   ],
   "source": [
    "plot_importanc(forest)"
   ]
  },
  {
   "cell_type": "markdown",
   "metadata": {},
   "source": [
    "These are the features both model considers importance, and from the look of things the GradientBoostingClassifier seems to suggest that only a whole lot fewer feature (3 or 4) are actually needed to build the model and that I can just throw the rest away. While RandomForestClassifier thinks quite a bit more features are needed (judging by the peaks, 5 or 6).\n",
    "\n",
    "I am going to go with the suggestion of GradientBoostingClassifier and see will lead to a good generalization performance, and also whether the RandomForestClassifier which has a different suggestion will still perform well on the data"
   ]
  },
  {
   "cell_type": "code",
   "execution_count": 138,
   "metadata": {},
   "outputs": [
    {
     "data": {
      "image/png": "[encoded data removed]",
      "text/plain": [
       "<Figure size 2160x720 with 1 Axes>"
      ]
     },
     "metadata": {
      "needs_background": "light"
     },
     "output_type": "display_data"
    }
   ],
   "source": [
    "plot_importanc(booster)"
   ]
  },
  {
   "cell_type": "code",
   "execution_count": 242,
   "metadata": {},
   "outputs": [],
   "source": [
    "data = retrieve_csv_file('data/expanded.csv')"
   ]
  },
  {
   "cell_type": "code",
   "execution_count": 243,
   "metadata": {},
   "outputs": [
    {
     "data": {
      "text/plain": [
       "((6312, 23), (2104, 23))"
      ]
     },
     "execution_count": 243,
     "metadata": {},
     "output_type": "execute_result"
    }
   ],
   "source": [
    "train, test = split_dataset(data)\n",
    "train.shape, test.shape"
   ]
  },
  {
   "cell_type": "code",
   "execution_count": 244,
   "metadata": {},
   "outputs": [
    {
     "data": {
      "text/plain": [
       "((4734, 23), (1578, 23))"
      ]
     },
     "execution_count": 244,
     "metadata": {},
     "output_type": "execute_result"
    }
   ],
   "source": [
    "train, valid = split_dataset(train)\n",
    "train.shape, valid.shape"
   ]
  },
  {
   "cell_type": "code",
   "execution_count": 245,
   "metadata": {},
   "outputs": [],
   "source": [
    "# features_to_drop = [1, 2, 3, 6, 7, 8, 9, 10, 13, 14, 15, 16, 17, 18, 19, 20, 21, 22]\n",
    "# train.drop(columns=features_to_drop, inplace=True)\n",
    "# valid.drop(columns=features_to_drop, inplace=True)\n",
    "# test.drop(columns=features_to_drop, inplace=True)\n",
    "\n",
    "features_to_use = ['labels', 'bruises', 'odor', 'stalk-root', 'stalk-surface-above-ring']\n",
    "train = train[features_to_use]\n",
    "valid = valid[features_to_use]\n",
    "test = test[features_to_use]"
   ]
  },
  {
   "cell_type": "code",
   "execution_count": 246,
   "metadata": {},
   "outputs": [
    {
     "data": {
      "text/plain": [
       "((4734, 4), (4734,), (1578, 4), (1578,))"
      ]
     },
     "execution_count": 246,
     "metadata": {},
     "output_type": "execute_result"
    }
   ],
   "source": [
    "y_train = split_label_from_dataset(train, label='labels')\n",
    "X_train = train.iloc[:, 1:]\n",
    "\n",
    "y_valid = split_label_from_dataset(valid, label='labels')\n",
    "X_valid = valid.iloc[:, 1:]\n",
    "\n",
    "X_train.shape, y_train.shape, X_valid.shape, y_valid.shape"
   ]
  },
  {
   "cell_type": "code",
   "execution_count": 247,
   "metadata": {},
   "outputs": [
    {
     "data": {
      "text/plain": [
       "((4734, 4), (1578, 4))"
      ]
     },
     "execution_count": 247,
     "metadata": {},
     "output_type": "execute_result"
    }
   ],
   "source": [
    "X_train, X_valid = convert_to_numpy(X_train), convert_to_numpy(X_valid)\n",
    "X_train.shape, X_valid.shape"
   ]
  },
  {
   "cell_type": "code",
   "execution_count": 248,
   "metadata": {},
   "outputs": [
    {
     "data": {
      "text/plain": [
       "((4734, 20), (1578, 20))"
      ]
     },
     "execution_count": 248,
     "metadata": {},
     "output_type": "execute_result"
    }
   ],
   "source": [
    "encoder, X_train_encoded = encode_features(X_train, encode_type='onehot')\n",
    "X_valid_encoded = encoder.transform(X_valid)\n",
    "\n",
    "X_train_encoded.shape, X_valid_encoded.shape"
   ]
  },
  {
   "cell_type": "code",
   "execution_count": 249,
   "metadata": {},
   "outputs": [],
   "source": [
    "booster = GradientBooster()\n",
    "forest = RandomForest()"
   ]
  },
  {
   "cell_type": "code",
   "execution_count": 250,
   "metadata": {},
   "outputs": [
    {
     "data": {
      "text/plain": [
       "(0.9869032530629489, 0.9885931558935361)"
      ]
     },
     "execution_count": 250,
     "metadata": {},
     "output_type": "execute_result"
    }
   ],
   "source": [
    "booster.fit(X_train_encoded, y_train)\n",
    "booster.score(X_train_encoded, y_train), booster.score(X_valid_encoded, y_valid)"
   ]
  },
  {
   "cell_type": "code",
   "execution_count": 251,
   "metadata": {},
   "outputs": [
    {
     "data": {
      "text/plain": [
       "(0.9869032530629489, 0.9885931558935361)"
      ]
     },
     "execution_count": 251,
     "metadata": {},
     "output_type": "execute_result"
    }
   ],
   "source": [
    "forest.fit(X_train_encoded, y_train)\n",
    "forest.score(X_train_encoded, y_train), forest.score(X_valid_encoded, y_valid)"
   ]
  },
  {
   "cell_type": "code",
   "execution_count": 252,
   "metadata": {},
   "outputs": [],
   "source": [
    "y_test = split_label_from_dataset(test, label='labels')\n",
    "X_test = test.iloc[:, 1:]"
   ]
  },
  {
   "cell_type": "code",
   "execution_count": 253,
   "metadata": {},
   "outputs": [],
   "source": [
    "X_test = convert_to_numpy(X_test)"
   ]
  },
  {
   "cell_type": "code",
   "execution_count": 254,
   "metadata": {},
   "outputs": [
    {
     "data": {
      "text/plain": [
       "(2104, 20)"
      ]
     },
     "execution_count": 254,
     "metadata": {},
     "output_type": "execute_result"
    }
   ],
   "source": [
    "X_test_encoded = encoder.transform(X_test)\n",
    "X_test_encoded.shape"
   ]
  },
  {
   "cell_type": "code",
   "execution_count": 255,
   "metadata": {},
   "outputs": [
    {
     "data": {
      "text/plain": [
       "(0.9847908745247148, 0.9847908745247148)"
      ]
     },
     "execution_count": 255,
     "metadata": {},
     "output_type": "execute_result"
    }
   ],
   "source": [
    "booster.score(X_test_encoded, y_test), forest.score(X_test_encoded, y_test)"
   ]
  },
  {
   "cell_type": "markdown",
   "metadata": {},
   "source": [
    "Even using four(4) features I was able to get a comparable model to model using the full dataset"
   ]
  }
 ],
 "metadata": {
  "kernelspec": {
   "display_name": "Python 3",
   "language": "python",
   "name": "python3"
  },
  "language_info": {
   "codemirror_mode": {
    "name": "ipython",
    "version": 3
   },
   "file_extension": ".py",
   "mimetype": "text/x-python",
   "name": "python",
   "nbconvert_exporter": "python",
   "pygments_lexer": "ipython3",
   "version": "3.8.6"
  }
 },
 "nbformat": 4,
 "nbformat_minor": 4
}
